{
 "cells": [
  {
   "cell_type": "code",
   "execution_count": 1,
   "metadata": {},
   "outputs": [],
   "source": [
    "import numpy as np\n",
    "import matplotlib.pyplot as plt\n",
    "import copy as cp\n",
    "from numpy.linalg import norm\n",
    "%matplotlib inline"
   ]
  },
  {
   "cell_type": "code",
   "execution_count": 3,
   "metadata": {},
   "outputs": [],
   "source": [
    "#Question 1\n",
    "# Spectral radiance is the rho(P)) term, and relates to how quickly a solution will converges.\n",
    "#Small changes in spectral radiance greatly affects the amount of time for solutions to converge.\n",
    "#A small spectral radiance would mean our solution converges faster.\n",
    "#If spectral radiance were to be over one, our solutions would not converge"
   ]
  },
  {
   "cell_type": "code",
   "execution_count": 4,
   "metadata": {},
   "outputs": [],
   "source": [
    "def test_converg(x_k, x_k1):\n",
    "    return norm(x_k-x_k1, 2)/norm(x_k1, 2)"
   ]
  },
  {
   "cell_type": "code",
   "execution_count": 7,
   "metadata": {},
   "outputs": [],
   "source": [
    "w = 1.15\n",
    "x_k = np.zeros(5)\n",
    "A = np.array([[3., -1., 0.,0.,0.],\n",
    "     [-1., 3., -1.,0.,0.],\n",
    "     [0., -1., 3.,-1.,0.],\n",
    "     [0.,0.,-1.,3.,-1.],\n",
    "     [0.,0.,0.,-1.,3.]])\n",
    "b = np.array([[100.], [100.], [100.],[100.],[100.]])"
   ]
  },
  {
   "cell_type": "code",
   "execution_count": 8,
   "metadata": {},
   "outputs": [],
   "source": [
    "#Jacobi Method - Captain Chapman showed me the zeros_like command\n",
    "def jacobi(A, x_k, b):\n",
    "    \n",
    "    x_k1=np.zeros_like(b)\n",
    "    \n",
    "    for i in range(len(b)):\n",
    "        sum1 = 0\n",
    "        sum2 = 0\n",
    "        \n",
    "        for j in range(0, i):\n",
    "            sum1 += A[i, j]*x_k[j]\n",
    "        for j in range(i+1, len(A[0])):\n",
    "            sum2 += A[i, j]*x_k[j]\n",
    "            \n",
    "        x_k1[i] = 1. / A[i, i] *(b[i]-sum1-sum2)\n",
    "        \n",
    "    return x_k1"
   ]
  },
  {
   "cell_type": "code",
   "execution_count": 10,
   "metadata": {},
   "outputs": [
    {
     "name": "stdout",
     "output_type": "stream",
     "text": [
      "The Jacobi Method took 1 iterations and the solution is: \n",
      "[[61.11105884]\n",
      " [83.33323925]\n",
      " [88.88878435]\n",
      " [83.33323925]\n",
      " [61.11105884]]\n"
     ]
    }
   ],
   "source": [
    "x_k1 = cp.copy(x_k) \n",
    "conv = [1] \n",
    "numIter=0\n",
    "while conv[-1] > 1e-6: \n",
    "    x_k = cp.copy(x_k1)\n",
    "    x_k1 = jacobi(A, x_k, b)\n",
    "    conv.append(test_converg(x_k, x_k1))\n",
    "    numIter += 1\n",
    "print (\"The Jacobi Method took {} iterations and the solution is: \\n{}\".format(numIter, x_k1))"
   ]
  },
  {
   "cell_type": "code",
   "execution_count": 11,
   "metadata": {},
   "outputs": [],
   "source": [
    "#Gauss Seidel\n",
    "def G_S(A, x_k, b):\n",
    "    \n",
    "    x_k1=np.zeros_like(b)\n",
    "    \n",
    "    for i in range(len(b)):\n",
    "        sum1 = 0\n",
    "        sum2 = 0\n",
    "        \n",
    "        for j in range(0, i):\n",
    "            sum1 += A[i, j]*x_k1[j]\n",
    "        for j in range(i+1, len(A[0])):\n",
    "            sum2 += A[i, j]*x_k[j]\n",
    "            \n",
    "        x_k1[i] = 1. / A[i, i] *(b[i]-sum1-sum2)\n",
    "        \n",
    "    return x_k1"
   ]
  },
  {
   "cell_type": "code",
   "execution_count": 12,
   "metadata": {},
   "outputs": [
    {
     "name": "stdout",
     "output_type": "stream",
     "text": [
      "The Gauss Seidel Method took 2 iterations and the solution is: \n",
      "[[61.1110844 ]\n",
      " [83.3332981 ]\n",
      " [88.88885791]\n",
      " [83.3333166 ]\n",
      " [61.11110553]]\n"
     ]
    }
   ],
   "source": [
    "x_k1 = cp.copy(x_k) \n",
    "conv = [1] \n",
    "numIter=0\n",
    "while conv[-1] > 1e-6: \n",
    "    x_k = cp.copy(x_k1)\n",
    "    x_k1 = G_S(A, x_k, b)\n",
    "    conv.append(test_converg(x_k, x_k1))\n",
    "    numIter += 1\n",
    "print (\"The Gauss Seidel Method took {} iterations and the solution is: \\n{}\".format(numIter, x_k1))"
   ]
  },
  {
   "cell_type": "code",
   "execution_count": 13,
   "metadata": {},
   "outputs": [],
   "source": [
    "#SOR Method\n",
    "def SOR(A, x_k, b, w):\n",
    "    \n",
    "    x_k1=np.zeros_like(b)\n",
    "    \n",
    "    for i in range(len(b)):\n",
    "        sum1 = 0\n",
    "        sum2 = 0\n",
    "        \n",
    "        for j in range(0, i):\n",
    "            sum1 += A[i, j]*x_k1[j]\n",
    "        for j in range(i+1, len(A[0])):\n",
    "            sum2 += A[i, j]*x_k[j]\n",
    "            \n",
    "        x_k1[i] = (1-w)*x_k[i] + w / A[i, i] *(b[i]-sum1-sum2)\n",
    "        \n",
    "    return x_k1"
   ]
  },
  {
   "cell_type": "code",
   "execution_count": 14,
   "metadata": {},
   "outputs": [
    {
     "name": "stdout",
     "output_type": "stream",
     "text": [
      "The SOR Method took 1 iterations and the solution is: \n",
      "[[61.11108823]\n",
      " [83.33330631]\n",
      " [88.88886826]\n",
      " [83.33332671]\n",
      " [61.11111146]]\n"
     ]
    }
   ],
   "source": [
    "x_k1 = cp.copy(x_k) \n",
    "w=1.15\n",
    "conv = [1] \n",
    "numIter=0\n",
    "while conv[-1] > 1e-6: \n",
    "    x_k = cp.copy(x_k1)\n",
    "    x_k1 = SOR(A, x_k, b,w)\n",
    "    conv.append(test_converg(x_k, x_k1))\n",
    "    numIter += 1\n",
    "print (\"The SOR Method took {} iterations and the solution is: \\n{}\".format(numIter, x_k1))"
   ]
  },
  {
   "cell_type": "code",
   "execution_count": 15,
   "metadata": {},
   "outputs": [],
   "source": [
    "#Problem 3\n",
    "\n",
    "#Dimensions of cell\n",
    "a = 4. # cm \n",
    "h = .1 # cm\n",
    "n = int(2*a/h)+1\n"
   ]
  },
  {
   "cell_type": "code",
   "execution_count": 16,
   "metadata": {},
   "outputs": [],
   "source": [
    "#Variables related to problem\n",
    "\n",
    "S = 8. # n/cm**-1\n",
    "Sig_a = .2\n",
    "D = 1. #cm \n",
    "L_2 = D / Sig_a\n",
    "L = np.sqrt(L_2)\n"
   ]
  },
  {
   "cell_type": "code",
   "execution_count": 17,
   "metadata": {},
   "outputs": [],
   "source": [
    "#define matrices\n",
    "A1 = np.zeros(n**2)\n",
    "A1.shape = (n,n)\n",
    "b1 = ((h**2) * S / D)\n",
    "B1 = np.zeros(n)\n",
    "B1.shape = (n,1)\n",
    "x_axis = np.linspace(-a,a,n)"
   ]
  },
  {
   "cell_type": "code",
   "execution_count": 19,
   "metadata": {},
   "outputs": [],
   "source": [
    "#initial conditions\n",
    "for i in range(0,n):\n",
    "    A1[i,i] = (2+ h**2/L_2)\n",
    "    if i < n-1: A1[i,i+1] = -1\n",
    "    if i > 0: A1[i,i-1] = -1\n",
    "\n",
    "for i in range(0,n):\n",
    "    B1[i,0]= b1"
   ]
  },
  {
   "cell_type": "code",
   "execution_count": 20,
   "metadata": {},
   "outputs": [],
   "source": [
    "def thomas(A, b):\n",
    "    \n",
    "    # Initialize storage vectors for u and v and solution vector x.\n",
    "    n = np.size(b)\n",
    "    u = np.zeros(n)\n",
    "    v = np.zeros(n)\n",
    "    x = np.zeros(n)\n",
    "    \n",
    "    # Get initial values.\n",
    "    u[0] = A[0,0]\n",
    "    v[0] = b[0]\n",
    "    \n",
    "    # loop through the system.\n",
    "    for i in range(1,n):\n",
    "        \n",
    "        u[i] = A[i,i] - (A[i,i-1]*A[i-1,i]) / u[i-1]\n",
    "        v[i] = b[i] - (A[i,i-1]*v[i-1]) / u[i-1]\n",
    "    \n",
    "    # Now start backwards sub with n-1.\n",
    "    x[n-1] = v[n-1]/u[n-1]\n",
    "    \n",
    "    # complete the backwards substitution.\n",
    "    for i in range(n-2,-1,-1):\n",
    "        x[i] = (v[i] - A[i,i+1]*x[i+1]) / u[i]\n",
    "    return x"
   ]
  },
  {
   "cell_type": "code",
   "execution_count": 21,
   "metadata": {},
   "outputs": [
    {
     "name": "stdout",
     "output_type": "stream",
     "text": [
      "[-4.  -3.9 -3.8 -3.7 -3.6 -3.5 -3.4 -3.3 -3.2 -3.1 -3.  -2.9 -2.8 -2.7\n",
      " -2.6 -2.5 -2.4 -2.3 -2.2 -2.1 -2.  -1.9 -1.8 -1.7 -1.6 -1.5 -1.4 -1.3\n",
      " -1.2 -1.1 -1.  -0.9 -0.8 -0.7 -0.6 -0.5 -0.4 -0.3 -0.2 -0.1  0.   0.1\n",
      "  0.2  0.3  0.4  0.5  0.6  0.7  0.8  0.9  1.   1.1  1.2  1.3  1.4  1.5\n",
      "  1.6  1.7  1.8  1.9  2.   2.1  2.2  2.3  2.4  2.5  2.6  2.7  2.8  2.9\n",
      "  3.   3.1  3.2  3.3  3.4  3.5  3.6  3.7  3.8  3.9  4. ]\n"
     ]
    }
   ],
   "source": [
    "#compare calculated value to approximated by Thomas algorithm\n",
    "thomas_ans = thomas(A1,B1)\n",
    "true_flux = (S / Sig_a) * (1 - (np.exp(x_axis / L) + np.exp(-x_axis / L)) / (np.exp(a/L) + np.exp(-a/L)))\n",
    "print(x_axis)"
   ]
  },
  {
   "cell_type": "code",
   "execution_count": 22,
   "metadata": {},
   "outputs": [
    {
     "data": {
      "image/png": "[encoded data removed]",
      "text/plain": [
       "<Figure size 432x288 with 1 Axes>"
      ]
     },
     "metadata": {},
     "output_type": "display_data"
    }
   ],
   "source": [
    "plt.plot(x_axis, thomas_ans, 'k', label = \"Thomas' Method\")\n",
    "plt.plot(x_axis, true_flux, 'g', label = 'Actual Flux')\n",
    "plt.xlabel(\"a-values [cm]\",fontsize=12)\n",
    "plt.ylabel('Flux [particles/cm**2 s]',fontsize=12)\n",
    "plt.title('Thomas Algorithm vs. Actual Flux',fontsize=14)\n",
    "plt.grid()\n",
    "plt.legend();"
   ]
  },
  {
   "cell_type": "code",
   "execution_count": 23,
   "metadata": {},
   "outputs": [],
   "source": [
    "max_error = abs(true_flux - thomas_ans)"
   ]
  },
  {
   "cell_type": "code",
   "execution_count": 24,
   "metadata": {},
   "outputs": [
    {
     "data": {
      "image/png": "[encoded data removed]",
      "text/plain": [
       "<Figure size 432x288 with 1 Axes>"
      ]
     },
     "metadata": {},
     "output_type": "display_data"
    }
   ],
   "source": [
    "plt.plot(x_axis, max_error, 'k')\n",
    "plt.xlabel(\"a-values [cm]\",fontsize=12)\n",
    "plt.ylabel('Max Error',fontsize=12)\n",
    "plt.title('Max Error Plot of Thomas vs Actual Flux',fontsize=14)\n",
    "plt.grid()"
   ]
  },
  {
   "cell_type": "code",
   "execution_count": null,
   "metadata": {},
   "outputs": [],
   "source": []
  }
 ],
 "metadata": {
  "kernelspec": {
   "display_name": "Python 3",
   "language": "python",
   "name": "python3"
  },
  "language_info": {
   "codemirror_mode": {
    "name": "ipython",
    "version": 3
   },
   "file_extension": ".py",
   "mimetype": "text/x-python",
   "name": "python",
   "nbconvert_exporter": "python",
   "pygments_lexer": "ipython3",
   "version": "3.6.5"
  }
 },
 "nbformat": 4,
 "nbformat_minor": 2
}
